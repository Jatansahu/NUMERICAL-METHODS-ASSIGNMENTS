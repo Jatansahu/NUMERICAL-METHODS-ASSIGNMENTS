{
  "nbformat": 4,
  "nbformat_minor": 0,
  "metadata": {
    "colab": {
      "provenance": []
    },
    "kernelspec": {
      "name": "python3",
      "display_name": "Python 3"
    },
    "language_info": {
      "name": "python"
    }
  },
  "cells": [
    {
      "cell_type": "markdown",
      "source": [
        "#Numerical Methods for Data Science - (SC602)\n",
        "\n",
        "**ASSIGNMENT - 02**\n",
        "\n",
        "**ID - 202218061**\n",
        "\n",
        "**NAME -JATAN SAHU**"
      ],
      "metadata": {
        "id": "orBQBBVjbopf"
      }
    },
    {
      "cell_type": "markdown",
      "source": [
        "1. Write code for Newton's divided-difference interpolation method for\n",
        "linear , quadratic and general form.\n",
        "data points at x0 = 1, x1 = 4, x2 = 6 and x3 = 5 Were used to estimate\n",
        "ln 2 with a parabola."
      ],
      "metadata": {
        "id": "QfTKlr3-b05Y"
      }
    },
    {
      "cell_type": "code",
      "source": [
        "def Ninterpolation():\n",
        "  X=list(map(float,input(\"Enter values of X in list formated seprated by spaces :\").split(\" \")))\n",
        "  Y=list(map(float,input(\"Enter values of Y in list formated seprated by spaces :\").split(\" \")))\n",
        "  \n",
        "  #Checking if length of X and Y are equal or not\n",
        "  while len(X)!=len(Y):\n",
        "    print(\"Type correct values of X and Y should be equal \")\n",
        "    X=list(map(float,input(\"Enter values of X in list formated seprated by spaces :\").split(\" \")))\n",
        "    Y=list(map(float,input(\"Enter values of Y in list formated seprated by spaces :\").split(\" \")))\n",
        "\n",
        "  x=float(input(\"Enter value for estimation :\"))\n",
        "  \n",
        "  #Making Newtons divided difference table\n",
        "  #Initialize m*n empty matrix \n",
        "  m=len(X) \n",
        "  n=len(X)+1\n",
        "  mat=[]\n",
        "  for i in range(m):\n",
        "    a=[]\n",
        "    for j in range(n):\n",
        "      a.append(None)\n",
        "    mat.append(a)\n",
        "\n",
        "  #Filling the values of X and Y in column 1 and 2\n",
        "  for i in range(m):\n",
        "    mat[i][0]=X[i]\n",
        "    mat[i][1]=Y[i]\n",
        "\n",
        "  #Calculating other columns \n",
        "  for i in range(2,n):\n",
        "    for j in range(0,n-i):\n",
        "      mat[j][i]=(mat[j+1][i-1] - mat[j][i-1])/(mat[i+j-1][0] - mat[j][0])\n",
        "\n",
        "  #Putting values in formula f(x) = y + (x-x0)y' +(x-x0)(x-x1)y'' +...\n",
        "  e=0\n",
        "  c=1\n",
        "  for i in range(1,n):\n",
        "    e =  e + (mat[0][i])*c\n",
        "    c =  c*(x - X[i-1]) \n",
        "   \n",
        "   #printing answer\n",
        "  print(f\"\\nEstimated value of f({x}) is {e}\")\n",
        "\n",
        "\n",
        "  "
      ],
      "metadata": {
        "id": "Lbthn3XhK7tY"
      },
      "execution_count": null,
      "outputs": []
    },
    {
      "cell_type": "markdown",
      "source": [
        "#linear interpolation"
      ],
      "metadata": {
        "id": "pIHJoiNElXeX"
      }
    },
    {
      "cell_type": "code",
      "source": [
        "Ninterpolation()"
      ],
      "metadata": {
        "colab": {
          "base_uri": "https://localhost:8080/"
        },
        "id": "Ua6eqyV-Mjgw",
        "outputId": "17de1e7c-d9c4-4b1b-9ca6-16b819870e82"
      },
      "execution_count": null,
      "outputs": [
        {
          "output_type": "stream",
          "name": "stdout",
          "text": [
            "Enter values of X in list formated seprated by spaces :1 4\n",
            "Enter values of Y in list formated seprated by spaces :0 1.38\n",
            "Enter value for estimation :2\n",
            "\n",
            "Estimated value of f(2.0) is 0.45999999999999996\n"
          ]
        }
      ]
    },
    {
      "cell_type": "markdown",
      "source": [
        "#Quadratic Interpolation"
      ],
      "metadata": {
        "id": "ACFzOEftnsDP"
      }
    },
    {
      "cell_type": "code",
      "source": [
        "Ninterpolation()\n"
      ],
      "metadata": {
        "colab": {
          "base_uri": "https://localhost:8080/"
        },
        "id": "RsPa0P82Zqr_",
        "outputId": "497eb7b1-93a4-4226-cc63-c550f81139f1"
      },
      "execution_count": null,
      "outputs": [
        {
          "output_type": "stream",
          "name": "stdout",
          "text": [
            "Enter values of X in list formated seprated by spaces :1 4 6\n",
            "Enter values of Y in list formated seprated by spaces :0 1.386294\n",
            "Type correct values of X and Y should be equal \n",
            "Enter values of X in list formated seprated by spaces :1 4 6\n",
            "Enter values of Y in list formated seprated by spaces :0 1.386294 1.7917\n",
            "Enter value for estimation :2\n",
            "\n",
            "Estimated value of f(2.0) is 0.5658559999999999\n"
          ]
        }
      ]
    },
    {
      "cell_type": "markdown",
      "source": [
        "#Cubic interpolation"
      ],
      "metadata": {
        "id": "VFujpK_zoJ5S"
      }
    },
    {
      "cell_type": "code",
      "source": [
        "Ninterpolation()"
      ],
      "metadata": {
        "colab": {
          "base_uri": "https://localhost:8080/"
        },
        "id": "dd0OecyMnzJ0",
        "outputId": "01319a07-9f57-4e15-819b-ffc475011b99"
      },
      "execution_count": null,
      "outputs": [
        {
          "output_type": "stream",
          "name": "stdout",
          "text": [
            "Enter values of X in list formated seprated by spaces :1 4 6 5\n",
            "Enter values of Y in list formated seprated by spaces :0 1.386294 1.7917 1.6094\n",
            "Enter value for estimation :2\n",
            "\n",
            "Estimated value of f(2.0) is 0.6288079999999999\n"
          ]
        }
      ]
    },
    {
      "cell_type": "code",
      "source": [],
      "metadata": {
        "id": "SC4y3dsLoRfA"
      },
      "execution_count": null,
      "outputs": []
    }
  ]
}