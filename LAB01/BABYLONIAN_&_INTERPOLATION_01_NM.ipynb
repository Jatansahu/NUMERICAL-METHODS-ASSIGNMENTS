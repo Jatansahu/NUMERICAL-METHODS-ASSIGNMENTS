{
  "nbformat": 4,
  "nbformat_minor": 0,
  "metadata": {
    "colab": {
      "provenance": []
    },
    "kernelspec": {
      "name": "python3",
      "display_name": "Python 3"
    },
    "language_info": {
      "name": "python"
    }
  },
  "cells": [
    {
      "cell_type": "markdown",
      "source": [
        "**Numerical Methods for Data Science - (SC602)**\n",
        "\n",
        "**Assignment -1**\n"
      ],
      "metadata": {
        "id": "zJh21ihuX6zk"
      }
    },
    {
      "cell_type": "markdown",
      "source": [
        "**1. Write a Program to find the Square Root of a given number N using\n",
        "Babylonian square root method (N=299,225)**\n",
        "\n",
        "\n",
        "Suppose you are given any positive number S. To find the square root of S, do the following:\n",
        "\n",
        "Make an initial guess. Guess any positive number x0.\n",
        "\n",
        "Improve the guess. Apply the formula x1 = (x0 + S / x0) / 2. The number x1 is a better\n",
        "approximation to sqrt(S).\n",
        "\n",
        "Iterate until convergence. Apply the formula xn+1 = (xn + S / xn) / 2 until the process\n",
        "converges. Convergence is achieved when the digits of xn+1 and xn agree to as many decimal\n",
        "places as you desire."
      ],
      "metadata": {
        "id": "qRUeyqrbYDPm"
      }
    },
    {
      "cell_type": "code",
      "source": [
        "import random\n",
        "def babylonian(S):\n",
        "  e=0.00001 #error \n",
        " # x1=x=S   # Taking random value as the S number \n",
        "  x1=x= random.randint(1,S)\n",
        "  y=1\n",
        "  while x-y >e:\n",
        "    x=x1\n",
        "    y=(x+(S/x))/2\n",
        "    x1=y\n",
        "  return y"
      ],
      "metadata": {
        "id": "H64KFEG3YKRX"
      },
      "execution_count": null,
      "outputs": []
    },
    {
      "cell_type": "code",
      "source": [
        "babylonian(299)"
      ],
      "metadata": {
        "colab": {
          "base_uri": "https://localhost:8080/"
        },
        "id": "Pu0MgZJrdVhi",
        "outputId": "a3022215-231f-4e76-f98e-a5d5e6755141"
      },
      "execution_count": null,
      "outputs": [
        {
          "output_type": "execute_result",
          "data": {
            "text/plain": [
              "17.291616465790582"
            ]
          },
          "metadata": {},
          "execution_count": 12
        }
      ]
    },
    {
      "cell_type": "code",
      "source": [
        "babylonian(225)"
      ],
      "metadata": {
        "colab": {
          "base_uri": "https://localhost:8080/"
        },
        "id": "vO9Wm97FeBUh",
        "outputId": "4efec2ff-413e-453d-9dcc-e19088705259"
      },
      "execution_count": null,
      "outputs": [
        {
          "output_type": "execute_result",
          "data": {
            "text/plain": [
              "15.0"
            ]
          },
          "metadata": {},
          "execution_count": 13
        }
      ]
    },
    {
      "cell_type": "markdown",
      "source": [
        "**2. Take Two points from the user and plot the line using linear interpolation\n",
        "method.**\n",
        "\n",
        "\n",
        "We can use the Linear Interpolation method here.\n",
        "\n",
        "1. Find the two adjacent  (x1, y1) ,(x2,y2) from the x. i.e. (5,2.2360) and (6,2.4494).\n",
        "\n",
        "Where x1 = 5, x2= 6, y1 = 2.2360, y2 = 2.4494, and we interpolate at point x = 5.5.\n",
        "\n",
        "2. Using the formula y(x)  =  y1  +  (x – x1)  \\frac{(y2 – y1) }{ (x2 – x1)}\n",
        "\n",
        "\n",
        "3. After putting the values in the above equation. \n",
        "\n",
        "y = 2.2360+(5.5-5)\\frac{(2.4494-2.2360)}{(6 - 5)}\n",
        "y = 2.3427\n",
        "At x = 5.5 the value of Y will be 2.3427. So by using linear interpolation we can easily determine the value of a function between two intervals."
      ],
      "metadata": {
        "id": "3ROx5xjqgTXB"
      }
    },
    {
      "cell_type": "code",
      "source": [
        "def interpolation(point1,point2,x):\n",
        "  y=point1[1] +(x - point1[0])* ((point2[1] - point1[1])/(point2[0] - point1[0]))\n",
        "  return y\n",
        "\n",
        "point1 = list(map(float,input(\"Enter points x1 , y1 :\").strip().split())) \n",
        "point2 = list(map(float,input(\"Enter points x2 , y2 :\").strip().split()))\n",
        "#p1 =[5,2.2360]\n",
        "#p2=[6,2.4494]\n",
        "#x=5.5\n",
        "\n",
        "x=float(input(\"Enter interpolating point : \"))\n",
        "print(\"Interpolation at point x is : \",interpolation(point1,point2,x) )\n",
        "\n",
        "# Plotting graph \n",
        "import matplotlib.pyplot as plt\n",
        "plt.rcParams[\"figure.figsize\"] = [7.50, 3.50]\n",
        "plt.rcParams[\"figure.autolayout\"] = True\n",
        "x_values = [point1[0], point2[0]]\n",
        "y_values = [point1[1], point2[1]]\n",
        "plt.plot(x_values, y_values, linestyle=\"-\")\n",
        "plt.text(point1[0], point1[1], \"Point1\")\n",
        "plt.text(point2[0], point2[1], \"Point2\")"
      ],
      "metadata": {
        "colab": {
          "base_uri": "https://localhost:8080/",
          "height": 348
        },
        "id": "HuNUX79_kDs-",
        "outputId": "cb3e618f-2704-47b9-bdaf-e6adab277536"
      },
      "execution_count": null,
      "outputs": [
        {
          "output_type": "stream",
          "name": "stdout",
          "text": [
            "Enter points x1 , y1 :5 2.2360\n",
            "Enter points x2 , y2 :6 2.4494\n",
            "Enter interpolating point : 5.5\n",
            "Interpolation at point x is :  2.3427\n"
          ]
        },
        {
          "output_type": "execute_result",
          "data": {
            "text/plain": [
              "Text(6.0, 2.4494, 'Point2')"
            ]
          },
          "metadata": {},
          "execution_count": 20
        },
        {
          "output_type": "display_data",
          "data": {
            "text/plain": [
              "<Figure size 540x252 with 1 Axes>"
            ],
            "image/png": "[encoded data removed]"
          },
          "metadata": {
            "needs_background": "light"
          }
        }
      ]
    },
    {
      "cell_type": "markdown",
      "source": [
        "3. Estimate the natural logarithm of 2 using linear interpolation. First, perform\n",
        "the computation by interpolating between In 1 =0 and In 6 = 1.791759.\n",
        "Then, repeat the procedure, but use a smaller interval from In 1 to In 4\n",
        "(1.386294). Note that the true value of In 2 is 0.6931472.\n",
        "Try for some different intervals and show errors for all intervals.\n",
        "Write your observation for the relationship between error and intervals."
      ],
      "metadata": {
        "id": "f-NL3zglsyE2"
      }
    },
    {
      "cell_type": "code",
      "source": [
        "#FINDING NATURAL LOAGARITHM OF 2 USING LINEAR INTERPOLATION\n",
        "import math   \n",
        "def interpolate(interval,x):\n",
        "      x1=interval[0]\n",
        "      x2=interval[1]\n",
        "      y1=math.log(interval[0])\n",
        "      y2=math.log(interval[1])\n",
        "      y= y1+(x - x1)*((y2 - y1)/(x2 - x1))\n",
        "      return y \n",
        "interval=list(map(int,input(\"Enter interval :\").strip().split()))\n",
        "x=2\n",
        "approx=interpolate(interval,x)\n",
        "print(approx)\n",
        "#ORIGINAL VALUE OF LOG 2 IS 0.6931472\n",
        "#ERROR % = ((ACTUAL VALUE - APPROX VALUE)/ACTUAL VALUE)*100\n",
        "error = abs((math.log(2) - approx) / math.log(2)*100)\n",
        "print(\"ERROR % = \",error)"
      ],
      "metadata": {
        "id": "wRyn9EJStjjC",
        "colab": {
          "base_uri": "https://localhost:8080/"
        },
        "outputId": "e097128c-8a7f-4283-ddc7-755bd20ad96e"
      },
      "execution_count": null,
      "outputs": [
        {
          "output_type": "stream",
          "name": "stdout",
          "text": [
            "Enter interval :1 6\n",
            "0.358351893845611\n",
            "ERROR % =  48.30074998557687\n"
          ]
        }
      ]
    },
    {
      "cell_type": "code",
      "source": [
        "#FINDING NATURAL LOAGARITHM OF 2 USING LINEAR INTERPOLATION\n",
        "#CHANGING INTERVAL VALUES\n",
        "import math   \n",
        "def interpolate(interval,x):\n",
        "      x1=interval[0]\n",
        "      x2=interval[1]\n",
        "      y1=math.log(interval[0])\n",
        "      y2=math.log(interval[1])\n",
        "      y= y1+(x - x1)*((y2 - y1)/(x2 - x1))\n",
        "      return y \n",
        "interval=list(map(int,input(\"Enter interval :\").strip().split()))\n",
        "x=2\n",
        "approx=interpolate(interval,x)\n",
        "print(approx)\n",
        "#ORIGINAL VALUE OF LOG 2 IS 0.6931472\n",
        "#ERROR % = ((ACTUAL VALUE - APPROX VALUE)/ACTUAL VALUE)*100\n",
        "error = abs((math.log(2) - approx) / math.log(2)*100)\n",
        "print(\"ERROR % = \",error)"
      ],
      "metadata": {
        "colab": {
          "base_uri": "https://localhost:8080/"
        },
        "id": "u1C_fpva1HIo",
        "outputId": "4f6d7403-1852-4d2d-d491-68c00640d4c6"
      },
      "execution_count": null,
      "outputs": [
        {
          "output_type": "stream",
          "name": "stdout",
          "text": [
            "Enter interval :1 4\n",
            "0.46209812037329684\n",
            "ERROR % =  33.333333333333336\n"
          ]
        }
      ]
    },
    {
      "cell_type": "code",
      "source": [],
      "metadata": {
        "id": "t-lg9jNcxW2Z"
      },
      "execution_count": null,
      "outputs": []
    },
    {
      "cell_type": "code",
      "source": [],
      "metadata": {
        "id": "eKfnWJkBS3-3"
      },
      "execution_count": null,
      "outputs": []
    }
  ]
}