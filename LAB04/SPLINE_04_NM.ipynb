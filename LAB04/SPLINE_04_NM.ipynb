{
  "nbformat": 4,
  "nbformat_minor": 0,
  "metadata": {
    "colab": {
      "provenance": []
    },
    "kernelspec": {
      "name": "python3",
      "display_name": "Python 3"
    },
    "language_info": {
      "name": "python"
    }
  },
  "cells": [
    {
      "cell_type": "markdown",
      "source": [
        "**ID - 202218061**\n",
        "\n",
        "**NAME - JATAN SAHU**\n",
        "\n",
        "**ASSIGMENT - 04**"
      ],
      "metadata": {
        "id": "aOYuWb4ioK8o"
      }
    },
    {
      "cell_type": "markdown",
      "source": [
        "#1. Write a program for Linear Spline, Quadratic Spline and Cubic Spline."
      ],
      "metadata": {
        "id": "zesMHUgGmv0v"
      }
    },
    {
      "cell_type": "markdown",
      "source": [
        "![image.png](data:image/png;base64,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)"
      ],
      "metadata": {
        "id": "-QJBCb9dm5gi"
      }
    },
    {
      "cell_type": "code",
      "source": [
        "from sympy import symbols, Eq\n",
        "import matplotlib.pyplot as plt\n",
        "import numpy as np\n"
      ],
      "metadata": {
        "id": "VEkUqRPoUOTc"
      },
      "execution_count": null,
      "outputs": []
    },
    {
      "cell_type": "markdown",
      "source": [
        "#Linear Spline"
      ],
      "metadata": {
        "id": "WvGz74_V6L5A"
      }
    },
    {
      "cell_type": "code",
      "source": [
        "X=[3,4.5,7,9]\n",
        "Y=[2.5,1,2.5,0.5]"
      ],
      "metadata": {
        "id": "NwPOyKv0Vwlt"
      },
      "execution_count": null,
      "outputs": []
    },
    {
      "cell_type": "code",
      "execution_count": null,
      "metadata": {
        "id": "tIe-I1Mimr6d",
        "colab": {
          "base_uri": "https://localhost:8080/",
          "height": 385
        },
        "outputId": "6f728f47-2879-4e66-9fdc-7fb36e78c32a"
      },
      "outputs": [
        {
          "output_type": "stream",
          "name": "stdout",
          "text": [
            "Equation1 =  5.5 - 1.0*x if 3 <= X <= 4.5\n",
            "\n",
            "Equation2 =  0.6*x - 1.7 if 4.5 <= X <= 7\n",
            "\n",
            "Equation3 =  9.5 - 1.0*x if 7 <= X <= 9\n",
            "\n"
          ]
        },
        {
          "output_type": "display_data",
          "data": {
            "text/plain": [
              "<Figure size 432x288 with 1 Axes>"
            ],
            "image/png": "[encoded data removed]"
          },
          "metadata": {
            "needs_background": "light"
          }
        }
      ],
      "source": [
        "def Spline():\n",
        "  # X = list(map(float , input(\"Enter X values for Spline seprated by space :\").split(\" \")))\n",
        "  # Y = list(map(float , input(\"Enter Y values for Spline seprated by space :\").split(\" \")))\n",
        "  # while len(X)!=len(Y):\n",
        "  #     X = list(map(float , input(\"Enter X values for Spline seprated by space :\").split(\" \")))\n",
        "  #     Y = list(map(float , input(\"Enter Y values for Spline seprated by space :\").split(\" \")))\n",
        "  X=[3,4.5,7,9]\n",
        "  Y=[2.5,1,2.5,0.5]\n",
        "  #Finding slope \n",
        "  M =[]\n",
        "  for i in range(len(X)-1):\n",
        "    M.append( (Y[i+1] - Y[i])/(X[i+1] - X[i]) )\n",
        "  \n",
        "  x = symbols('x')\n",
        "  lines =[]\n",
        "  for i in range(len(M)):\n",
        "    eq1 = (Y[i] + M[i]*(x - X[i]) )\n",
        "    print(f\"Equation{i+1} = \",eq1 , f\"if {X[i]} <= X <= {X[i+1]}\")\n",
        "    print()\n",
        "    \n",
        "  # #Plotting\n",
        "  plt.plot(X,Y , color = 'r',marker = 'o', ms = 5, mec = 'b', mfc = 'r')\n",
        "  plt.scatter(X,Y)\n",
        "  plt.title(\"Spline fits of a set of four points\")\n",
        "\n",
        "\n",
        "Spline()\n",
        "  \n",
        "\n",
        "  "
      ]
    },
    {
      "cell_type": "markdown",
      "source": [],
      "metadata": {
        "id": "Bq5SmIIrh3Rs"
      }
    },
    {
      "cell_type": "markdown",
      "source": [],
      "metadata": {
        "id": "avOJWFu_h3Ov"
      }
    },
    {
      "cell_type": "markdown",
      "source": [
        "#Quadratic Spline"
      ],
      "metadata": {
        "id": "YG7ze3Lc6PCZ"
      }
    },
    {
      "cell_type": "code",
      "source": [
        "x=[3,4.5,7,9]\n",
        "y=[2.5,1,2.5,0.5]"
      ],
      "metadata": {
        "id": "XIH1rx6SxwTy"
      },
      "execution_count": null,
      "outputs": []
    },
    {
      "cell_type": "code",
      "source": [
        "m = []\n",
        "for i in range(len(x)-1):\n",
        "  slope = (y[i+1]-y[i])/(x[i+1]-x[i])\n",
        "  m.append(slope)"
      ],
      "metadata": {
        "id": "84oYvif9x-rm"
      },
      "execution_count": null,
      "outputs": []
    },
    {
      "cell_type": "code",
      "source": [
        "# Quadratic Spline\n",
        "A = np.zeros([3*3,3*3])\n",
        "b = np.zeros([3*3])\n",
        "e = 0\n",
        "# 1st Rule : Functional Value of adjacent polynmial must be equal at internal knots\n",
        "print(A)\n",
        "for i in range(1,3):\n",
        "  print(f'Equation {e+1} : {x[i]**2}*a{i} + {x[i]}*b{i} + c{i} = {y[i]} ')\n",
        "  A[e][(i-1)*3:(i-1)*3+3] =  x[i]**2,x[i],1\n",
        "  b[e] = y[i]\n",
        "  print(f'Equation {e+2} : {x[i]**2}*a{i+1} + {x[i]}*b{i+1} + c{i+1} = {y[i]} ')\n",
        "  A[e+1][(i)*3:(i)*3+3] = x[i]**2,x[i],1\n",
        "  b[e+1] = y[i]\n",
        "  e += 2\n",
        "\n",
        "# 2nd Rule : First and Last function must pass through th end points\n",
        "print(f\"Equation {e} : {x[0]**2}*a1 + {x[0]}*b1 + c1 = {y[0]}\")\n",
        "A[e][0:3] = x[0]**2,x[0],1\n",
        "b[e] = y[0]\n",
        "e+=1\n",
        "print(f\"Equation {e} : {x[3]**2}*a1 + {x[3]}*b1 + c1 = {y[3]}\")\n",
        "A[e][-3:] = x[3]**2,x[3],1\n",
        "b[e] = y[3]\n",
        "e+=1\n",
        "\n",
        "# 3rd Rule : The first derivatives at interior knots must be equal\n",
        "for i in range(1,3):\n",
        "  print(f'Equation {e} : {2*x[i]}*a{i} + b{i} = {2*x[i]}*a{i+1} + b{i+1}')\n",
        "  A[e][(i-1)*3:(i)*3+3] =  2*x[i],1,0,-2*x[i],-1,0\n",
        "  b[e] = 0\n",
        "  e+=1\n",
        "\n",
        "# 4th Rule : Second Derivative is zero at first point\n",
        "print(f\"Equation {e} : a1 = 0\")\n",
        "A[e][0] = 1\n",
        "\n",
        "print()\n",
        "print(A)\n",
        "print()\n",
        "print(b)\n",
        "\n",
        "sol = np.dot(np.linalg.inv(A),b)\n",
        "sol = sol.reshape(3,3)\n",
        "print(sol)\n",
        "\n",
        "plt.scatter(x,y)\n",
        "for i in range(len(m)):\n",
        "  p = np.linspace(x[i],x[i+1])\n",
        "  plt.plot(p,sol[i][0]*p**2 + sol[i][1]*p + sol[i][2])\n",
        "plt.show()"
      ],
      "metadata": {
        "colab": {
          "base_uri": "https://localhost:8080/",
          "height": 838
        },
        "id": "JMtMKRqcxufe",
        "outputId": "b8d76643-75d5-4438-bb50-849927d5a147"
      },
      "execution_count": null,
      "outputs": [
        {
          "output_type": "stream",
          "name": "stdout",
          "text": [
            "[[0. 0. 0. 0. 0. 0. 0. 0. 0.]\n",
            " [0. 0. 0. 0. 0. 0. 0. 0. 0.]\n",
            " [0. 0. 0. 0. 0. 0. 0. 0. 0.]\n",
            " [0. 0. 0. 0. 0. 0. 0. 0. 0.]\n",
            " [0. 0. 0. 0. 0. 0. 0. 0. 0.]\n",
            " [0. 0. 0. 0. 0. 0. 0. 0. 0.]\n",
            " [0. 0. 0. 0. 0. 0. 0. 0. 0.]\n",
            " [0. 0. 0. 0. 0. 0. 0. 0. 0.]\n",
            " [0. 0. 0. 0. 0. 0. 0. 0. 0.]]\n",
            "Equation 1 : 20.25*a1 + 4.5*b1 + c1 = 1 \n",
            "Equation 2 : 20.25*a2 + 4.5*b2 + c2 = 1 \n",
            "Equation 3 : 49*a2 + 7*b2 + c2 = 2.5 \n",
            "Equation 4 : 49*a3 + 7*b3 + c3 = 2.5 \n",
            "Equation 4 : 9*a1 + 3*b1 + c1 = 2.5\n",
            "Equation 5 : 81*a1 + 9*b1 + c1 = 0.5\n",
            "Equation 6 : 9.0*a1 + b1 = 9.0*a2 + b2\n",
            "Equation 7 : 14*a2 + b2 = 14*a3 + b3\n",
            "Equation 8 : a1 = 0\n",
            "\n",
            "[[ 20.25   4.5    1.     0.     0.     0.     0.     0.     0.  ]\n",
            " [  0.     0.     0.    20.25   4.5    1.     0.     0.     0.  ]\n",
            " [  0.     0.     0.    49.     7.     1.     0.     0.     0.  ]\n",
            " [  0.     0.     0.     0.     0.     0.    49.     7.     1.  ]\n",
            " [  9.     3.     1.     0.     0.     0.     0.     0.     0.  ]\n",
            " [  0.     0.     0.     0.     0.     0.    81.     9.     1.  ]\n",
            " [  9.     1.     0.    -9.    -1.     0.     0.     0.     0.  ]\n",
            " [  0.     0.     0.    14.     1.     0.   -14.    -1.     0.  ]\n",
            " [  1.     0.     0.     0.     0.     0.     0.     0.     0.  ]]\n",
            "\n",
            "[1.  1.  2.5 2.5 2.5 0.5 0.  0.  0. ]\n",
            "[[-6.49686066e-16 -1.00000000e+00  5.50000000e+00]\n",
            " [ 6.40000000e-01 -6.76000000e+00  1.84600000e+01]\n",
            " [-1.60000000e+00  2.46000000e+01 -9.13000000e+01]]\n"
          ]
        },
        {
          "output_type": "display_data",
          "data": {
            "text/plain": [
              "<Figure size 432x288 with 1 Axes>"
            ],
            "image/png": "[encoded data removed]"
          },
          "metadata": {
            "needs_background": "light"
          }
        }
      ]
    },
    {
      "cell_type": "markdown",
      "source": [
        "#CUBIC SPLINE"
      ],
      "metadata": {
        "id": "TWZ2oUseyBPe"
      }
    },
    {
      "cell_type": "code",
      "source": [
        "#For cubic \n",
        "# Quadratic Spline\n",
        "A = np.zeros([12,12])\n",
        "B = np.zeros([12])\n",
        "c=1\n",
        "n=3\n",
        "# 1st : The functional Value must be equal at interior knots \n",
        "# (2n - 2) conditions\n",
        "\n",
        "for i in range(2,4): #for 3n i =2,3 \n",
        "  print(f\"Equation{c} : {(X[i-1])**3}a{i-1} + {(X[i-1])**2}b{i-1} + {X[i-1]}c{i-1} + d{i-1} = {Y[i-1]}\")\n",
        "  A[c-1][(i-2)*4 : (i-2)*4 +4] = (X[i-1])**3 , (X[i-1])**2 , X[i-1] , 1\n",
        "  B[c-1]=Y[i-1]\n",
        "   \n",
        "  print(f\"Equation{c+1} : {(X[i-1])**3}a{i} + {(X[i-1])**2}b{i} + {X[i-1]}c{i} + d{i-1} = {Y[i-1]}\")\n",
        "  A[c][(i-1)*4 : (i-1)*4 +4] = (X[i-1])**3 , (X[i-1])**2 , X[i-1] , 1\n",
        "  B[c]=Y[i-1]\n",
        "  c+=2\n",
        "\n",
        "# 2nd : First and Last function must pass through th end points\n",
        "print(f\"Equation{c} : {(X[0])**3}a{1} + {(X[0])**2}b{1} + {X[0]}c{1} + d{1} = {Y[0]}\")\n",
        "A[c-1][(0)*4 : (0)*4 +4] = (X[0])**3  ,(X[0])**2 ,X[0] ,1\n",
        "B[c-1] = Y[0]\n",
        "c+=1\n",
        "print(f\"Equation{c} : {(X[3])**3}a{n} + {(X[n])**2}b{n} + {X[n]}c{n} + d{n} = {Y[n]}\")\n",
        "A[c-1][(2)*4 : (2)*4 +4] = (X[n])**3  ,(X[n])**2 ,X[n] ,1\n",
        "B[c-1] = Y[n]\n",
        "c+=1\n",
        "\n",
        "# 3rd : First derivative at the interior knot, must be equal (n-1) condition\n",
        "for i in range(2,4): #for 3n i =2,3  eqaution 7 and 8\n",
        "  print(f\"Equation{c} : {3*(X[i-1])}a{i-1} + {(2*X[i-1])}b{i-1} + c{i-1} = {3*(X[i-1])}a{i} + {(2*X[i-1])}b{i} + c{i}\")\n",
        "  A[c-1][(i-2)*4 : (i-2)*4 +4] = 3*((X[i-1])**2) , (X[i-1])*2 , 1 , 0\n",
        "  A[c -1][(i-1)*4 : (i-1)*4 +4] = -(((X[i-1])**2)*3) , -((X[i-1])*2)  , -1, 0 \n",
        "  B[c-1]= 0\n",
        "  c+=1\n",
        "\n",
        "# 4th : Second  derivative at the interior knots, must be equal\n",
        "for i in range(2,4): # equation 9 and 10\n",
        "  print(f\"Equation{c} : {6*(X[i-1])}a{i-1} + {2}b{i-1}  = {6*(X[i-1])}a{i} + {2}b{i} \")\n",
        "  A[c-1][(i-2)*4 : (i-2)*4 +4] = 6*((X[i-1])) , 2 , 0 , 0\n",
        "  A[c -1][(i-1)*4 : (i-1)*4 +4] = -((X[i-1])*6) , -2  , 0, 0 \n",
        "  B[c-1]=0\n",
        "  c+=1\n",
        "\n",
        "\n",
        "# 5th : The second derivatives at the end knots are zero (2 condition)\n",
        "print(f\"Equation{c} : {(X[0])*6}a{1} + {2}b{1} = {0}\")\n",
        "A[10][(0)*4 : (0)*4 +4] = (X[0])*6  ,2 ,0 ,0\n",
        "B[10]=0\n",
        "c+=1\n",
        "print(f\"Equation{c} : {(X[n])*6}a{n} + {2}b{n} = {0}\")\n",
        "A[11][(2)*4 : (2)*4 +4] = (X[n])*6  ,2 ,0 ,0\n",
        "B[11]=0\n",
        "\n",
        "\n",
        "print(A)\n",
        "#X=A^-1 .B\n",
        "sol = np.dot(np.linalg.inv(A),B)\n",
        "sol = sol.reshape(3,4)\n",
        "print(\"size :\", sol.shape)\n",
        "print(sol)\n",
        "\n",
        "plt.scatter(X,Y)\n",
        "for i in range(len(m)):\n",
        "  p = np.linspace(X[i],x[i+1])\n",
        "  plt.plot(p,sol[i][0]*p**3 + sol[i][1]*p**2 + sol[i][2]*p +sol[i][3])\n",
        "plt.show()\n"
      ],
      "metadata": {
        "colab": {
          "base_uri": "https://localhost:8080/",
          "height": 959
        },
        "id": "DmQLjERCY_8e",
        "outputId": "84403519-b9b7-4265-b1d2-c5b031bebecf"
      },
      "execution_count": null,
      "outputs": [
        {
          "output_type": "stream",
          "name": "stdout",
          "text": [
            "Equation1 : 91.125a1 + 20.25b1 + 4.5c1 + d1 = 1\n",
            "Equation2 : 91.125a2 + 20.25b2 + 4.5c2 + d1 = 1\n",
            "Equation3 : 343a2 + 49b2 + 7c2 + d2 = 2.5\n",
            "Equation4 : 343a3 + 49b3 + 7c3 + d2 = 2.5\n",
            "Equation5 : 27a1 + 9b1 + 3c1 + d1 = 2.5\n",
            "Equation6 : 729a3 + 81b3 + 9c3 + d3 = 0.5\n",
            "Equation7 : 13.5a1 + 9.0b1 + c1 = 13.5a2 + 9.0b2 + c2\n",
            "Equation8 : 21a2 + 14b2 + c2 = 21a3 + 14b3 + c3\n",
            "Equation9 : 27.0a1 + 2b1  = 27.0a2 + 2b2 \n",
            "Equation10 : 42a2 + 2b2  = 42a3 + 2b3 \n",
            "Equation11 : 18a1 + 2b1 = 0\n",
            "Equation12 : 54a3 + 2b3 = 0\n",
            "[[  91.125   20.25     4.5      1.       0.       0.       0.       0.\n",
            "     0.       0.       0.       0.   ]\n",
            " [   0.       0.       0.       0.      91.125   20.25     4.5      1.\n",
            "     0.       0.       0.       0.   ]\n",
            " [   0.       0.       0.       0.     343.      49.       7.       1.\n",
            "     0.       0.       0.       0.   ]\n",
            " [   0.       0.       0.       0.       0.       0.       0.       0.\n",
            "   343.      49.       7.       1.   ]\n",
            " [  27.       9.       3.       1.       0.       0.       0.       0.\n",
            "     0.       0.       0.       0.   ]\n",
            " [   0.       0.       0.       0.       0.       0.       0.       0.\n",
            "   729.      81.       9.       1.   ]\n",
            " [  60.75     9.       1.       0.     -60.75    -9.      -1.       0.\n",
            "     0.       0.       0.       0.   ]\n",
            " [   0.       0.       0.       0.     147.      14.       1.       0.\n",
            "  -147.     -14.      -1.       0.   ]\n",
            " [  27.       2.       0.       0.     -27.      -2.       0.       0.\n",
            "     0.       0.       0.       0.   ]\n",
            " [   0.       0.       0.       0.      42.       2.       0.       0.\n",
            "   -42.      -2.       0.       0.   ]\n",
            " [  18.       2.       0.       0.       0.       0.       0.       0.\n",
            "     0.       0.       0.       0.   ]\n",
            " [   0.       0.       0.       0.       0.       0.       0.       0.\n",
            "    54.       2.       0.       0.   ]]\n",
            "size : (3, 4)\n",
            "[[  0.18656527  -1.67908745   3.61749049   1.72205323]\n",
            " [ -0.21414449   3.7304943  -20.72562738  38.23673004]\n",
            " [  0.12775665  -3.44942966  29.5338403  -79.03536122]]\n"
          ]
        },
        {
          "output_type": "display_data",
          "data": {
            "text/plain": [
              "<Figure size 432x288 with 1 Axes>"
            ],
            "image/png": "[encoded data removed]"
          },
          "metadata": {
            "needs_background": "light"
          }
        }
      ]
    },
    {
      "cell_type": "code",
      "source": [],
      "metadata": {
        "id": "RmqAIW_po5w3"
      },
      "execution_count": null,
      "outputs": []
    },
    {
      "cell_type": "code",
      "source": [],
      "metadata": {
        "id": "g0HEC4GT057m"
      },
      "execution_count": null,
      "outputs": []
    }
  ]
}