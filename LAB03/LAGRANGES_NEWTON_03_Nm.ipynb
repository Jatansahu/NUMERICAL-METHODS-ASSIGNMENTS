{
  "nbformat": 4,
  "nbformat_minor": 0,
  "metadata": {
    "colab": {
      "provenance": []
    },
    "kernelspec": {
      "name": "python3",
      "display_name": "Python 3"
    },
    "language_info": {
      "name": "python"
    }
  },
  "cells": [
    {
      "cell_type": "markdown",
      "source": [
        "**Id- 202218061**\n",
        "\n",
        "**Name - Jatan sahu**\n",
        "\n",
        "**ASSIGNMENT 03**"
      ],
      "metadata": {
        "id": "UtI4hXbyY7rY"
      }
    },
    {
      "cell_type": "markdown",
      "source": [
        "1. Write a function which implements the Lagrangian\n",
        "interpolation method for m order polynomials. For obtaining\n",
        "the m order interpolating polynomial, you require the\n",
        "function evaluation of m+1 points."
      ],
      "metadata": {
        "id": "wWas2xP6ZL7A"
      }
    },
    {
      "cell_type": "markdown",
      "source": [
        "2. Consider the function y= log 2(x) . Evaluate the function on\n",
        "four points x0 = 1, x1 = 4, x2 = 8 and x3 = 256 and obtain\n",
        "the cubic interpolation g(x) using your code. Find the value\n",
        "of your estimated g(x) at x = 16. Compute the error and\n",
        "compare it from the error obtained by Newton Divided\n",
        "Difference methods"
      ],
      "metadata": {
        "id": "mJRUlBmIbvGr"
      }
    },
    {
      "cell_type": "code",
      "source": [
        "#Importing library for operation\n",
        "import math"
      ],
      "metadata": {
        "id": "ZfCF6QYYpWI7"
      },
      "execution_count": 2,
      "outputs": []
    },
    {
      "cell_type": "code",
      "execution_count": 1,
      "metadata": {
        "id": "7cQNO9WYY2P1"
      },
      "outputs": [],
      "source": [
        "def lagrangian():\n",
        "  X=list(map(float,input(\"Enter values of X in list formate seprated by spaces :\").split(\" \")))\n",
        "  Y=[math.log2(i) for i in X]\n",
        "  x=float(input(\"Enter value for extimation :\"))\n",
        "  \n",
        "  est=0\n",
        "  for i in range(len(X)):\n",
        "    n=1                       #Numerator\n",
        "    d=1                       #Denominator\n",
        "    for j in range(len(X)):\n",
        "      if i!=j:\n",
        "        n=(x - X[j]) * n\n",
        "        d=(X[i] - X[j]) * d\n",
        "\n",
        "    est = ((n*Y[i])/d)  + est\n",
        "  #Printing answer\n",
        "  print(f\"\\nOrginal value of log 2({x}) is {math.log2(x)}\")\n",
        "  print(f\"\\nEstimated value of log 2({x}) is :\")\n",
        "  return (est)  "
      ]
    },
    {
      "cell_type": "markdown",
      "source": [
        "2. Consider the function y= log 2(x) . Evaluate the function on\n",
        "four points x0 = 1, x1 = 4, x2 = 8 and x3 = 256 and obtain\n",
        "the cubic interpolation g(x) using your code. Find the value\n",
        "of your estimated g(x) at x = 16. Compute the error and\n",
        "compare it from the error obtained by Newton Divided\n",
        "Difference methods"
      ],
      "metadata": {
        "id": "kVqsbJR-rVy_"
      }
    },
    {
      "cell_type": "markdown",
      "source": [
        "#Using Langrages interpolation"
      ],
      "metadata": {
        "id": "GuT0V8Rdu2ce"
      }
    },
    {
      "cell_type": "code",
      "source": [
        "est = lagrangian()\n",
        "est"
      ],
      "metadata": {
        "colab": {
          "base_uri": "https://localhost:8080/",
          "height": 0
        },
        "id": "HoVEmLYKpZYn",
        "outputId": "045f966e-3dbf-42f3-a9d9-587cae07a523"
      },
      "execution_count": 3,
      "outputs": [
        {
          "output_type": "stream",
          "name": "stdout",
          "text": [
            "Enter values of X in list formate seprated by spaces :1 4 8 256\n",
            "Enter value for extimation :16\n",
            "\n",
            "Orginal value of log 2(16.0) is 4.0\n",
            "\n",
            "Estimated value of log 2(16.0) is :\n"
          ]
        },
        {
          "output_type": "execute_result",
          "data": {
            "text/plain": [
              "0.3833017077798871"
            ]
          },
          "metadata": {},
          "execution_count": 3
        }
      ]
    },
    {
      "cell_type": "code",
      "source": [
        "#Calculating error in Langrages interpolation\n",
        "ov=math.log2(16)\n",
        "# error = (est - ov)\n",
        "error = abs((ov - est)/ov)*100\n",
        "print(f\"error = {error}%\")"
      ],
      "metadata": {
        "colab": {
          "base_uri": "https://localhost:8080/",
          "height": 0
        },
        "id": "CK1KfPg5sK7b",
        "outputId": "7b333baa-67a1-4b61-fe06-15dea77f7181"
      },
      "execution_count": 6,
      "outputs": [
        {
          "output_type": "stream",
          "name": "stdout",
          "text": [
            "error = 90.41745730550282%\n"
          ]
        }
      ]
    },
    {
      "cell_type": "markdown",
      "source": [
        "#Using Newton Divind difference\n"
      ],
      "metadata": {
        "id": "muN01e8-vJUU"
      }
    },
    {
      "cell_type": "code",
      "source": [
        "def Ninterpolation():\n",
        "  X=list(map(float,input(\"Enter values of X in list formated seprated by spaces :\").split(\" \")))\n",
        "  Y=[math.log2(i) for i in X]\n",
        "  \n",
        "  #Checking if length of X and Y are equal or not\n",
        "  # while len(X)!=len(Y):\n",
        "  #   print(\"Type correct values of X and Y should be equal \")\n",
        "  #   X=list(map(float,input(\"Enter values of X in list formated seprated by spaces :\").split(\" \")))\n",
        "  #   Y=list(map(float,input(\"Enter values of Y in list formated seprated by spaces :\").split(\" \")))\n",
        "\n",
        "  x=float(input(\"Enter value for estimation :\"))\n",
        "  \n",
        "  #Making Newtons divided difference table\n",
        "  #Initialize m*n empty matrix \n",
        "  m=len(X) \n",
        "  n=len(X)+1\n",
        "  mat=[]\n",
        "  for i in range(m):\n",
        "    a=[]\n",
        "    for j in range(n):\n",
        "      a.append(None)\n",
        "    mat.append(a)\n",
        "\n",
        "  #Filling the values of X and Y in column 1 and 2\n",
        "  for i in range(m):\n",
        "    mat[i][0]=X[i]\n",
        "    mat[i][1]=Y[i]\n",
        "\n",
        "  #Calculating other columns \n",
        "  for i in range(2,n):\n",
        "    for j in range(0,n-i):\n",
        "      mat[j][i]=(mat[j+1][i-1] - mat[j][i-1])/(mat[i+j-1][0] - mat[j][0])\n",
        "\n",
        "  #Putting values in formula f(x) = y + (x-x0)y' +(x-x0)(x-x1)y'' +...\n",
        "  e=0\n",
        "  c=1\n",
        "  for i in range(1,n):\n",
        "    e =  e + (mat[0][i])*c\n",
        "    c =  c*(x - X[i-1]) \n",
        "   \n",
        "   #printing answer\n",
        "  print(f\"\\nEstimated value of f({x}) is :\")\n",
        "  return e\n"
      ],
      "metadata": {
        "id": "feMwR00UvUPO"
      },
      "execution_count": null,
      "outputs": []
    },
    {
      "cell_type": "code",
      "source": [
        "e=Ninterpolation()\n",
        "e"
      ],
      "metadata": {
        "colab": {
          "base_uri": "https://localhost:8080/"
        },
        "id": "_uU2e4VGvnXC",
        "outputId": "8682562a-082a-426f-c915-a02cb0f9e36e"
      },
      "execution_count": null,
      "outputs": [
        {
          "output_type": "stream",
          "name": "stdout",
          "text": [
            "Enter values of X in list formated seprated by spaces :1 4 8 256\n",
            "Enter value for estimation :16\n",
            "\n",
            "Estimated value of f(16.0) is :\n"
          ]
        },
        {
          "output_type": "execute_result",
          "data": {
            "text/plain": [
              "-0.38330170777988537"
            ]
          },
          "metadata": {},
          "execution_count": 32
        }
      ]
    },
    {
      "cell_type": "code",
      "source": [
        "#Calculating error in Newton divided diff \n",
        "ov=math.log2(16)\n",
        "error = abs((ov - e)/ov)*100\n",
        "print(f\"error = {error}%\")"
      ],
      "metadata": {
        "colab": {
          "base_uri": "https://localhost:8080/"
        },
        "id": "_MkMqZgvvnEO",
        "outputId": "419a4451-0b65-481b-8771-a016070a95a4"
      },
      "execution_count": null,
      "outputs": [
        {
          "output_type": "stream",
          "name": "stdout",
          "text": [
            "error = 109.58254269449714%\n"
          ]
        }
      ]
    },
    {
      "cell_type": "markdown",
      "source": [
        "#Comparing errors in Lagranges and Newton Divided diffence"
      ],
      "metadata": {
        "id": "M76Ov_9fwMDy"
      }
    },
    {
      "cell_type": "markdown",
      "source": [
        "As we see above errors in both methods are almost same "
      ],
      "metadata": {
        "id": "Cu74f-yJwTxd"
      }
    },
    {
      "cell_type": "code",
      "source": [],
      "metadata": {
        "id": "xVbiGkBlwLXe"
      },
      "execution_count": null,
      "outputs": []
    },
    {
      "cell_type": "markdown",
      "source": [
        "#"
      ],
      "metadata": {
        "id": "wMeeZ0dwvCNK"
      }
    },
    {
      "cell_type": "code",
      "source": [],
      "metadata": {
        "id": "wEb_kegmp8oP"
      },
      "execution_count": null,
      "outputs": []
    }
  ]
}